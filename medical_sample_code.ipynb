{
 "cells": [
  {
   "cell_type": "code",
   "execution_count": 1,
   "id": "318d40d2",
   "metadata": {},
   "outputs": [
    {
     "name": "stdout",
     "output_type": "stream",
     "text": [
      "<class 'pandas.core.frame.DataFrame'>\n",
      "RangeIndex: 1304 entries, 0 to 1303\n",
      "Data columns (total 25 columns):\n",
      " #   Column                                        Non-Null Count  Dtype         \n",
      "---  ------                                        --------------  -----         \n",
      " 0   Patient ID                                    1304 non-null   object        \n",
      " 1   Agent ID                                      1304 non-null   int64         \n",
      " 2   pincode                                       1304 non-null   object        \n",
      " 3   patient location                              1304 non-null   object        \n",
      " 4   Latitudes and Longitudes (Patient)            1304 non-null   object        \n",
      " 5   Latitudes and Longitudes (Agent)              1304 non-null   object        \n",
      " 6   Latitudes and Longitudes (Diagnostic Center)  1304 non-null   object        \n",
      " 7   Diagnostic Centers                            1304 non-null   object        \n",
      " 8   Time slot                                     1304 non-null   object        \n",
      " 9   shortest distance Agent-Pathlab(m)            1304 non-null   int64         \n",
      " 10  shortest distance Patient-Pathlab(m)          1304 non-null   int64         \n",
      " 11  shortest distance Patient-Agent(m)            1304 non-null   int64         \n",
      " 12  Availabilty time (Patient)                    1304 non-null   object        \n",
      " 13  Age                                           1304 non-null   int64         \n",
      " 14  Gender                                        1304 non-null   object        \n",
      " 15  Test Booking Date                             1304 non-null   datetime64[ns]\n",
      " 16  Test Booking Time HH:MM                       1304 non-null   object        \n",
      " 17  Test name                                     1304 non-null   object        \n",
      " 18  Sample                                        1304 non-null   object        \n",
      " 19  Way Of Storage Of Sample                      1304 non-null   object        \n",
      " 20  Sample Collection Date                        1304 non-null   datetime64[ns]\n",
      " 21   Time For Sample Collection MM                1304 non-null   int64         \n",
      " 22  Time Agent-Pathlab sec                        1304 non-null   float64       \n",
      " 23  Agent Arrival Time (range) HH:MM              1304 non-null   object        \n",
      " 24  Exact Arrival Time MM                         1304 non-null   int64         \n",
      "dtypes: datetime64[ns](2), float64(1), int64(7), object(15)\n",
      "memory usage: 254.8+ KB\n"
     ]
    }
   ],
   "source": [
    "import pandas as pd\n",
    "import numpy as np\n",
    "import matplotlib.pyplot as plt\n",
    "import seaborn as sns\n",
    "import warnings\n",
    "warnings.filterwarnings('ignore')\n",
    "\n",
    "df = pd.read_excel('/Users/jwalavaishnavikarri/Documents/Project_new/final_data.xlsx')\n",
    "df.head().style.background_gradient('turbo')\n",
    "df.drop(['Unnamed: 0'], axis = 1, inplace = True)\n",
    "df.columns\n",
    "\n",
    "df.info()\n",
    "\n",
    "df.rename(columns={'shortest distance Agent-Pathlab(m)' : 'Distance Agent-Pathlab', ##unit = meters\n",
    "                   'shortest distance Patient-Pathlab(m)' : 'Distance Patient-Pathlab',  ##unit = meters\n",
    "                   'shortest distance Patient-Agent(m)' : 'Distance Patient-Agent',  ##unit = meters\n",
    "                   'Availabilty time (Patient)' : 'Patient Availabilty',  ##range format\n",
    "                   'Test Booking Date' : 'Booking Date',  \n",
    "                   'Test Booking Time HH:MM' : 'Booking Time',\n",
    "                   'Way Of Storage Of Sample' : 'Specimen Storage',\n",
    "                   ' Time For Sample Collection MM' : 'Specimen collection Time',\n",
    "                   'Time Agent-Pathlab sec' : 'Agent-Pathlab sec',\n",
    "                   'Agent Arrival Time (range) HH:MM' : 'Agent Arrival Time',\n",
    "                   'Exact Arrival Time MM' : 'Exact Arrival Time'   ##output time\n",
    "                  }, inplace=True)\n",
    "\n",
    "\n"
   ]
  },
  {
   "cell_type": "code",
   "execution_count": null,
   "id": "1e69b789",
   "metadata": {},
   "outputs": [],
   "source": [
    "print(\"duplicate values\",df.duplicated().sum())\n",
    "print(\"Null values\",df.isna().sum())"
   ]
  },
  {
   "cell_type": "code",
   "execution_count": null,
   "id": "6d65ba72",
   "metadata": {},
   "outputs": [],
   "source": [
    "df.columns"
   ]
  },
  {
   "cell_type": "code",
   "execution_count": null,
   "id": "6c087c8d",
   "metadata": {},
   "outputs": [],
   "source": [
    "#Plots:\n",
    "sns.distplot(df['Exact Arrival Time'])"
   ]
  },
  {
   "cell_type": "code",
   "execution_count": 2,
   "id": "1a3f99c3",
   "metadata": {},
   "outputs": [
    {
     "name": "stdout",
     "output_type": "stream",
     "text": [
      "<class 'pandas.core.frame.DataFrame'>\n",
      "RangeIndex: 1304 entries, 0 to 1303\n",
      "Data columns (total 7 columns):\n",
      " #   Column                    Non-Null Count  Dtype  \n",
      "---  ------                    --------------  -----  \n",
      " 0   Age                       1304 non-null   int64  \n",
      " 1   Distance Agent-Pathlab    1304 non-null   int64  \n",
      " 2   Distance Patient-Pathlab  1304 non-null   int64  \n",
      " 3   Distance Patient-Agent    1304 non-null   int64  \n",
      " 4   Specimen collection Time  1304 non-null   int64  \n",
      " 5   Agent-Pathlab sec         1304 non-null   float64\n",
      " 6   Exact Arrival Time        1304 non-null   int64  \n",
      "dtypes: float64(1), int64(6)\n",
      "memory usage: 71.4 KB\n"
     ]
    },
    {
     "data": {
      "text/html": [
       "<div>\n",
       "<style scoped>\n",
       "    .dataframe tbody tr th:only-of-type {\n",
       "        vertical-align: middle;\n",
       "    }\n",
       "\n",
       "    .dataframe tbody tr th {\n",
       "        vertical-align: top;\n",
       "    }\n",
       "\n",
       "    .dataframe thead th {\n",
       "        text-align: right;\n",
       "    }\n",
       "</style>\n",
       "<table border=\"1\" class=\"dataframe\">\n",
       "  <thead>\n",
       "    <tr style=\"text-align: right;\">\n",
       "      <th></th>\n",
       "      <th>patient location</th>\n",
       "      <th>Diagnostic Centers</th>\n",
       "      <th>Time slot</th>\n",
       "      <th>Patient Availabilty</th>\n",
       "      <th>Gender</th>\n",
       "      <th>Booking Date</th>\n",
       "      <th>Specimen Storage</th>\n",
       "      <th>Sample Collection Date</th>\n",
       "      <th>Agent Arrival Time</th>\n",
       "    </tr>\n",
       "  </thead>\n",
       "  <tbody>\n",
       "    <tr>\n",
       "      <th>0</th>\n",
       "      <td>Serilingampalle (M)</td>\n",
       "      <td>Medquest Diagnostics Center</td>\n",
       "      <td>06:00 to 21:00 (Home)</td>\n",
       "      <td>09:00 to 10:00</td>\n",
       "      <td>Female</td>\n",
       "      <td>2022-01-01</td>\n",
       "      <td>Vaccum blood collection tube</td>\n",
       "      <td>2022-01-02</td>\n",
       "      <td>09:05 to 09:55</td>\n",
       "    </tr>\n",
       "    <tr>\n",
       "      <th>1</th>\n",
       "      <td>Serilingampalle (M)</td>\n",
       "      <td>Medquest Diagnostics Center</td>\n",
       "      <td>19:00 to 22:00 (working person)</td>\n",
       "      <td>19:00 to 20:00</td>\n",
       "      <td>Male</td>\n",
       "      <td>2022-01-02</td>\n",
       "      <td>Vaccum blood collection tube</td>\n",
       "      <td>2022-01-03</td>\n",
       "      <td>19:05 to 19:55</td>\n",
       "    </tr>\n",
       "    <tr>\n",
       "      <th>2</th>\n",
       "      <td>Ramachandrapuram</td>\n",
       "      <td>Medquest Diagnostics Center</td>\n",
       "      <td>06:00 to 18:00 (Collect at work place)</td>\n",
       "      <td>14:00 to 15:00</td>\n",
       "      <td>Male</td>\n",
       "      <td>2022-01-03</td>\n",
       "      <td>Vaccum blood collection tube</td>\n",
       "      <td>2022-01-04</td>\n",
       "      <td>14:05 to 14:55</td>\n",
       "    </tr>\n",
       "    <tr>\n",
       "      <th>3</th>\n",
       "      <td>Miyapur</td>\n",
       "      <td>Medquest Diagnostics Center</td>\n",
       "      <td>19:00 to 22:00 (working person)</td>\n",
       "      <td>21:00 to 22:00</td>\n",
       "      <td>Female</td>\n",
       "      <td>2022-01-04</td>\n",
       "      <td>Vaccum blood collection tube</td>\n",
       "      <td>2022-01-05</td>\n",
       "      <td>21:05 to 21:55</td>\n",
       "    </tr>\n",
       "    <tr>\n",
       "      <th>4</th>\n",
       "      <td>Nizampet</td>\n",
       "      <td>Medquest Diagnostics Center</td>\n",
       "      <td>06:00 to 18:00 (Collect at work place)</td>\n",
       "      <td>13:00 to 14:00</td>\n",
       "      <td>Male</td>\n",
       "      <td>2022-01-05</td>\n",
       "      <td>Vaccum blood collection tube</td>\n",
       "      <td>2022-01-06</td>\n",
       "      <td>13:05 to 13:55</td>\n",
       "    </tr>\n",
       "  </tbody>\n",
       "</table>\n",
       "</div>"
      ],
      "text/plain": [
       "      patient location           Diagnostic Centers  \\\n",
       "0  Serilingampalle (M)  Medquest Diagnostics Center   \n",
       "1  Serilingampalle (M)  Medquest Diagnostics Center   \n",
       "2     Ramachandrapuram  Medquest Diagnostics Center   \n",
       "3              Miyapur  Medquest Diagnostics Center   \n",
       "4             Nizampet  Medquest Diagnostics Center   \n",
       "\n",
       "                                Time slot Patient Availabilty  Gender  \\\n",
       "0                   06:00 to 21:00 (Home)      09:00 to 10:00  Female   \n",
       "1         19:00 to 22:00 (working person)      19:00 to 20:00    Male   \n",
       "2  06:00 to 18:00 (Collect at work place)      14:00 to 15:00    Male   \n",
       "3         19:00 to 22:00 (working person)      21:00 to 22:00  Female   \n",
       "4  06:00 to 18:00 (Collect at work place)      13:00 to 14:00    Male   \n",
       "\n",
       "  Booking Date              Specimen Storage Sample Collection Date  \\\n",
       "0   2022-01-01  Vaccum blood collection tube             2022-01-02   \n",
       "1   2022-01-02  Vaccum blood collection tube             2022-01-03   \n",
       "2   2022-01-03  Vaccum blood collection tube             2022-01-04   \n",
       "3   2022-01-04  Vaccum blood collection tube             2022-01-05   \n",
       "4   2022-01-05  Vaccum blood collection tube             2022-01-06   \n",
       "\n",
       "  Agent Arrival Time  \n",
       "0     09:05 to 09:55  \n",
       "1     19:05 to 19:55  \n",
       "2     14:05 to 14:55  \n",
       "3     21:05 to 21:55  \n",
       "4     13:05 to 13:55  "
      ]
     },
     "execution_count": 2,
     "metadata": {},
     "output_type": "execute_result"
    }
   ],
   "source": [
    "ID_columns = df[['Patient ID', 'Agent ID', 'pincode']]\n",
    "num_columns = df[['Age', 'Distance Agent-Pathlab', 'Distance Patient-Pathlab', 'Distance Patient-Agent', \n",
    "                        'Specimen collection Time' , 'Agent-Pathlab sec', 'Exact Arrival Time']]\n",
    "categ_columns = df[['patient location', 'Diagnostic Centers', 'Time slot', 'Patient Availabilty', 'Gender', \n",
    "                          'Booking Date', 'Specimen Storage', 'Sample Collection Date', 'Agent Arrival Time']]\n",
    "num_columns.info()\n",
    "categ_columns.head()"
   ]
  },
  {
   "cell_type": "code",
   "execution_count": null,
   "id": "3bca0c7b",
   "metadata": {},
   "outputs": [],
   "source": [
    "list(categ_columns['Diagnostic Centers'].unique())"
   ]
  },
  {
   "cell_type": "code",
   "execution_count": null,
   "id": "f7f3587d",
   "metadata": {},
   "outputs": [],
   "source": [
    "categ_columns['Diagnostic Centers'].value_counts().plot(kind = 'bar')"
   ]
  },
  {
   "cell_type": "code",
   "execution_count": 3,
   "id": "9084f7e1",
   "metadata": {},
   "outputs": [],
   "source": [
    "def name_change(text):\n",
    "    if text == 'Medquest Diagnostics Center' or text == 'Medquest Diagnostics':\n",
    "        return 'Medquest Diagnostics Center'\n",
    "    elif text == 'Pronto Diagnostics' or text == 'Pronto Diagnostics Center':\n",
    "        return 'Pronto Diagnostics Center'\n",
    "    elif text == 'Vijaya Diagonstic Center' or text == 'Vijaya Diagnostic Center':\n",
    "        return 'Vijaya Diagnostic Center'\n",
    "    elif text == 'Viva Diagnostic' or text == 'Vivaa Diagnostic Center':\n",
    "        return 'Vivaa Diagnostic Center'\n",
    "    else:\n",
    "        return text\n",
    "\n",
    "categ_columns['Diagnostic Centers'] = categ_columns['Diagnostic Centers'].apply(name_change)    "
   ]
  },
  {
   "cell_type": "code",
   "execution_count": null,
   "id": "d0aa816b",
   "metadata": {},
   "outputs": [],
   "source": [
    "categ_columns['Diagnostic Centers'].value_counts().plot(kind = 'bar')"
   ]
  },
  {
   "cell_type": "code",
   "execution_count": null,
   "id": "e35a1c0b",
   "metadata": {},
   "outputs": [],
   "source": [
    "categ_columns['Time slot'].value_counts().plot(kind = 'bar')"
   ]
  },
  {
   "cell_type": "code",
   "execution_count": null,
   "id": "08824d2d",
   "metadata": {},
   "outputs": [],
   "source": [
    "categ_columns['Specimen Storage'].value_counts().plot(kind = 'bar')"
   ]
  },
  {
   "cell_type": "code",
   "execution_count": null,
   "id": "be99949e",
   "metadata": {},
   "outputs": [],
   "source": [
    "len(categ_columns['Patient Availabilty'].unique())"
   ]
  },
  {
   "cell_type": "code",
   "execution_count": null,
   "id": "2b9ed1cc",
   "metadata": {},
   "outputs": [],
   "source": [
    "categ_columns['Patient Availabilty'].value_counts().plot(kind = 'bar')"
   ]
  },
  {
   "cell_type": "code",
   "execution_count": null,
   "id": "bc42246d",
   "metadata": {},
   "outputs": [],
   "source": [
    "len(categ_columns['Agent Arrival Time'].unique())"
   ]
  },
  {
   "cell_type": "code",
   "execution_count": null,
   "id": "18a61c5c",
   "metadata": {},
   "outputs": [],
   "source": [
    "categ_columns['Gender'].value_counts().plot(kind = 'bar')"
   ]
  },
  {
   "cell_type": "code",
   "execution_count": 4,
   "id": "5de21008",
   "metadata": {},
   "outputs": [
    {
     "name": "stdout",
     "output_type": "stream",
     "text": [
      "<class 'pandas.core.frame.DataFrame'>\n",
      "RangeIndex: 1304 entries, 0 to 1303\n",
      "Data columns (total 12 columns):\n",
      " #   Column                    Non-Null Count  Dtype \n",
      "---  ------                    --------------  ----- \n",
      " 0   Patient ID                1304 non-null   object\n",
      " 1   Agent ID                  1304 non-null   int64 \n",
      " 2   pincode                   1304 non-null   object\n",
      " 3   Diagnostic Centers        1304 non-null   object\n",
      " 4   Time slot                 1304 non-null   object\n",
      " 5   Patient Availabilty       1304 non-null   object\n",
      " 6   Gender                    1304 non-null   object\n",
      " 7   Specimen Storage          1304 non-null   object\n",
      " 8   Agent Arrival Time        1304 non-null   object\n",
      " 9   Distance Patient-Agent    1304 non-null   int64 \n",
      " 10  Specimen collection Time  1304 non-null   int64 \n",
      " 11  Exact Arrival Time        1304 non-null   int64 \n",
      "dtypes: int64(4), object(8)\n",
      "memory usage: 122.4+ KB\n"
     ]
    }
   ],
   "source": [
    "new_df = pd.concat([ID_columns,\n",
    "                    categ_columns[['Diagnostic Centers', 'Time slot', 'Patient Availabilty', 'Gender',\n",
    "                                         'Specimen Storage', 'Agent Arrival Time']],\n",
    "                    num_columns[['Distance Patient-Agent', 'Specimen collection Time', 'Exact Arrival Time']]\n",
    "                   ], axis = 1)\n",
    "new_df.info()"
   ]
  },
  {
   "cell_type": "code",
   "execution_count": 5,
   "id": "3466f472",
   "metadata": {},
   "outputs": [
    {
     "name": "stdout",
     "output_type": "stream",
     "text": [
      "<class 'pandas.core.frame.DataFrame'>\n",
      "Int64Index: 1296 entries, 0 to 1303\n",
      "Data columns (total 12 columns):\n",
      " #   Column                    Non-Null Count  Dtype \n",
      "---  ------                    --------------  ----- \n",
      " 0   Patient ID                1296 non-null   object\n",
      " 1   Agent ID                  1296 non-null   int64 \n",
      " 2   pincode                   1296 non-null   object\n",
      " 3   Diagnostic Centers        1296 non-null   object\n",
      " 4   Time slot                 1296 non-null   object\n",
      " 5   Patient Availabilty       1296 non-null   object\n",
      " 6   Gender                    1296 non-null   object\n",
      " 7   Specimen Storage          1296 non-null   object\n",
      " 8   Agent Arrival Time        1296 non-null   object\n",
      " 9   Distance Patient-Agent    1296 non-null   int64 \n",
      " 10  Specimen collection Time  1296 non-null   int64 \n",
      " 11  Exact Arrival Time        1296 non-null   int64 \n",
      "dtypes: int64(4), object(8)\n",
      "memory usage: 131.6+ KB\n"
     ]
    }
   ],
   "source": [
    "final = new_df[new_df['Distance Patient-Agent'] != 0]\n",
    "final.info()"
   ]
  },
  {
   "cell_type": "code",
   "execution_count": null,
   "id": "fff92a19",
   "metadata": {},
   "outputs": [],
   "source": [
    "sns.distplot(np.log(final['Distance Patient-Agent']))"
   ]
  },
  {
   "cell_type": "code",
   "execution_count": null,
   "id": "a2a44c7b",
   "metadata": {},
   "outputs": [],
   "source": [
    "for col in final.columns[:]:\n",
    "    print(col, ' : ', len(final[col].unique()), 'Unique Values')"
   ]
  },
  {
   "cell_type": "code",
   "execution_count": null,
   "id": "aeba5d9e",
   "metadata": {},
   "outputs": [],
   "source": [
    "final.describe()"
   ]
  },
  {
   "cell_type": "code",
   "execution_count": 6,
   "id": "7ff6ff91",
   "metadata": {},
   "outputs": [],
   "source": [
    "final.drop(['Patient ID', 'pincode'], axis = 1, inplace = True)"
   ]
  },
  {
   "cell_type": "code",
   "execution_count": 7,
   "id": "f73fbd76",
   "metadata": {},
   "outputs": [],
   "source": [
    "final['Distance Patient-Agent'] = np.log(final['Distance Patient-Agent'])"
   ]
  },
  {
   "cell_type": "code",
   "execution_count": 8,
   "id": "bc42cab1",
   "metadata": {},
   "outputs": [],
   "source": [
    "final = final[final['Patient Availabilty'] != '19:00 to 22:00']"
   ]
  },
  {
   "cell_type": "code",
   "execution_count": 9,
   "id": "050c8e87",
   "metadata": {},
   "outputs": [],
   "source": [
    "from sklearn.model_selection import train_test_split\n",
    "#from sklearn.pipeline import Pipeline\n",
    "#from sklearn.preprocessing import OneHotEncoder\n",
    "#from sklearn.compose import ColumnTransformer\n",
    "from sklearn.metrics import accuracy_score, classification_report\n",
    "\n",
    "#from sklearn.multiclass import OneVsRestClassifier\n",
    "from sklearn.linear_model import LogisticRegression, LogisticRegressionCV\n",
    "from sklearn.svm import SVC "
   ]
  },
  {
   "cell_type": "code",
   "execution_count": 10,
   "id": "2eea24cf",
   "metadata": {},
   "outputs": [
    {
     "data": {
      "text/plain": [
       "Index(['Agent ID', 'Diagnostic Centers', 'Time slot', 'Patient Availabilty',\n",
       "       'Gender', 'Specimen Storage', 'Agent Arrival Time',\n",
       "       'Distance Patient-Agent', 'Specimen collection Time',\n",
       "       'Exact Arrival Time'],\n",
       "      dtype='object')"
      ]
     },
     "execution_count": 10,
     "metadata": {},
     "output_type": "execute_result"
    }
   ],
   "source": [
    "final.columns"
   ]
  },
  {
   "cell_type": "code",
   "execution_count": null,
   "id": "67cb9190",
   "metadata": {},
   "outputs": [],
   "source": [
    "# x = final.drop(['Exact Arrival Time'], axis = 1)\n",
    "# y = final[['Exact Arrival Time']]"
   ]
  },
  {
   "cell_type": "code",
   "execution_count": null,
   "id": "e991619a",
   "metadata": {},
   "outputs": [],
   "source": [
    "# xtrain, xtest, ytrain, ytest = train_test_split(x,y, test_size=0.3)"
   ]
  },
  {
   "cell_type": "code",
   "execution_count": null,
   "id": "25b22a02",
   "metadata": {},
   "outputs": [],
   "source": [
    "# step1 = ColumnTransformer(transformers=[\n",
    "#     ('col_tnf',OneHotEncoder(sparse=False,drop='first'),[1, 2, 3, 4, 5, 6])\n",
    "# ],remainder='passthrough')\n",
    "\n",
    "# step2 = LogisticRegression(multi_class='ovr')\n",
    "\n",
    "# pipe = Pipeline([\n",
    "#     ('step1',step1),\n",
    "#     ('step2',step2)\n",
    "# ])\n",
    "\n",
    "# pipe.fit(xtrain, ytrain)\n",
    "\n",
    "# ypred = pipe.predict(xtest)\n",
    "\n",
    "# print('Accruacy score: {:.4f}'.format(accuracy_score(ytest, ypred))) \n",
    "# print('Classification Report: \\n', classification_report(ytest, ypred))\n"
   ]
  },
  {
   "cell_type": "code",
   "execution_count": null,
   "id": "40caa2d5",
   "metadata": {},
   "outputs": [],
   "source": [
    "# step1 = ColumnTransformer(transformers=[\n",
    "#     ('col_tnf',OneHotEncoder(sparse=False,drop='first'),[1, 2, 3, 4, 5, 6])\n",
    "# ],remainder='passthrough')\n",
    "\n",
    "# step2 = LogisticRegression(multi_class='ovr',\n",
    "#                            penalty = 'l2',\n",
    "#                            solver='newton-cg',\n",
    "#                            C = 16.0,\n",
    "#                            fit_intercept=True,\n",
    "#                            class_weight='balanced',\n",
    "#                            random_state=50\n",
    "#                           )\n",
    "\n",
    "# pipe = Pipeline([\n",
    "#     ('step1',step1),\n",
    "#     ('step2',step2)\n",
    "# ])\n",
    "\n",
    "# pipe.fit(xtrain, ytrain)\n",
    "\n",
    "# ypred = pipe.predict(xtest)\n",
    "\n",
    "# print('Accruacy score: {:.4f}'.format(accuracy_score(ytest, ypred))) \n",
    "# print('Classification Report: \\n', classification_report(ytest, ypred))"
   ]
  },
  {
   "cell_type": "code",
   "execution_count": 11,
   "id": "a410c79b",
   "metadata": {},
   "outputs": [],
   "source": [
    "final['Patient Availabilty From'] = final['Patient Availabilty'].apply(lambda x:x.split(':')[0])"
   ]
  },
  {
   "cell_type": "code",
   "execution_count": 12,
   "id": "23c6e6cf",
   "metadata": {},
   "outputs": [],
   "source": [
    "a = final['Patient Availabilty'].apply(lambda x:x.split('to')[1])\n",
    "final['Patient Availabilty To'] = a.apply(lambda x:x.split(':')[0])"
   ]
  },
  {
   "cell_type": "code",
   "execution_count": 13,
   "id": "00433432",
   "metadata": {},
   "outputs": [],
   "source": [
    "b = final['Agent Arrival Time'].apply(lambda x:x.split('to')[1])\n",
    "final['Agent Arrive Before'] = b.apply(lambda x:x.split(':')[0])"
   ]
  },
  {
   "cell_type": "code",
   "execution_count": 14,
   "id": "1005a706",
   "metadata": {},
   "outputs": [],
   "source": [
    "final['Patient Availabilty From'] = final['Patient Availabilty From'].astype('int64')\n",
    "final['Patient Availabilty To'] = final['Patient Availabilty To'].astype('int64')\n",
    "final['Agent Arrive Before'] = final['Agent Arrive Before'].astype('int64')"
   ]
  },
  {
   "cell_type": "code",
   "execution_count": 15,
   "id": "6139af74",
   "metadata": {},
   "outputs": [],
   "source": [
    "final1 = final.drop(['Patient Availabilty', 'Agent Arrival Time', 'Diagnostic Centers'], axis = 1)"
   ]
  },
  {
   "cell_type": "code",
   "execution_count": 16,
   "id": "233addcb",
   "metadata": {},
   "outputs": [],
   "source": [
    "variables = final1.drop(['Exact Arrival Time'], axis = 1)\n",
    "target = final1[['Exact Arrival Time']]"
   ]
  },
  {
   "cell_type": "code",
   "execution_count": 17,
   "id": "cf1a1e1a",
   "metadata": {},
   "outputs": [],
   "source": [
    "xtrain, xtest, ytrain, ytest = train_test_split(variables, target, test_size=0.3)"
   ]
  },
  {
   "cell_type": "code",
   "execution_count": 18,
   "id": "c0cf77a5",
   "metadata": {},
   "outputs": [
    {
     "name": "stdout",
     "output_type": "stream",
     "text": [
      "<class 'pandas.core.frame.DataFrame'>\n",
      "Int64Index: 906 entries, 984 to 650\n",
      "Data columns (total 9 columns):\n",
      " #   Column                    Non-Null Count  Dtype  \n",
      "---  ------                    --------------  -----  \n",
      " 0   Agent ID                  906 non-null    int64  \n",
      " 1   Time slot                 906 non-null    object \n",
      " 2   Gender                    906 non-null    object \n",
      " 3   Specimen Storage          906 non-null    object \n",
      " 4   Distance Patient-Agent    906 non-null    float64\n",
      " 5   Specimen collection Time  906 non-null    int64  \n",
      " 6   Patient Availabilty From  906 non-null    int64  \n",
      " 7   Patient Availabilty To    906 non-null    int64  \n",
      " 8   Agent Arrive Before       906 non-null    int64  \n",
      "dtypes: float64(1), int64(5), object(3)\n",
      "memory usage: 70.8+ KB\n"
     ]
    }
   ],
   "source": [
    "xtrain.info()"
   ]
  },
  {
   "cell_type": "code",
   "execution_count": null,
   "id": "bd72155f",
   "metadata": {},
   "outputs": [],
   "source": [
    "# step1 = ColumnTransformer(transformers=[\n",
    "#     ('col_tnf',OneHotEncoder(sparse=False,drop='first'),[1, 2, 3])\n",
    "# ],remainder='passthrough')\n",
    "\n",
    "# step2 = LogisticRegression(multi_class='ovr',\n",
    "#                            penalty = 'none',\n",
    "#                            solver='newton-cg',\n",
    "#                            C = 1e-05,\n",
    "#                            fit_intercept=True,\n",
    "#                            class_weight='balanced',\n",
    "#                            random_state=50\n",
    "#                           )\n",
    "\n",
    "# pipe = Pipeline([\n",
    "#     ('step1',step1),\n",
    "#     ('step2',step2)\n",
    "# ])\n",
    "\n",
    "# pipe.fit(xtrain, ytrain)\n",
    "\n",
    "# ypred = pipe.predict(xtest)\n",
    "# ypredtrain = pipe.predict(xtrain)\n",
    "\n",
    "# print('Train Accruacy score: {:.4f}'.format(accuracy_score(ytrain, ypredtrain))) \n",
    "# print('Test Accruacy score: {:.4f}'.format(accuracy_score(ytest, ypred))) \n",
    "# print('Test Classification Report: \\n', classification_report(ytest, ypred))\n",
    "\n"
   ]
  },
  {
   "cell_type": "code",
   "execution_count": 19,
   "id": "65364716",
   "metadata": {
    "scrolled": true
   },
   "outputs": [
    {
     "name": "stdout",
     "output_type": "stream",
     "text": [
      "<class 'pandas.core.frame.DataFrame'>\n",
      "Int64Index: 389 entries, 296 to 1123\n",
      "Data columns (total 9 columns):\n",
      " #   Column                    Non-Null Count  Dtype  \n",
      "---  ------                    --------------  -----  \n",
      " 0   Agent ID                  389 non-null    int64  \n",
      " 1   Time slot                 389 non-null    int64  \n",
      " 2   Gender                    389 non-null    int64  \n",
      " 3   Specimen Storage          389 non-null    int64  \n",
      " 4   Distance Patient-Agent    389 non-null    float64\n",
      " 5   Specimen collection Time  389 non-null    int64  \n",
      " 6   Patient Availabilty From  389 non-null    int64  \n",
      " 7   Patient Availabilty To    389 non-null    int64  \n",
      " 8   Agent Arrive Before       389 non-null    int64  \n",
      "dtypes: float64(1), int64(8)\n",
      "memory usage: 30.4 KB\n"
     ]
    }
   ],
   "source": [
    "from sklearn.preprocessing import LabelEncoder\n",
    "labelencoder = LabelEncoder()\n",
    "xtrain['Time slot']= labelencoder.fit_transform(xtrain['Time slot'])\n",
    "xtrain['Gender'] = labelencoder.fit_transform(xtrain['Gender'])\n",
    "xtrain['Specimen Storage'] = labelencoder.fit_transform(xtrain['Specimen Storage'])\n",
    "xtest['Time slot']= labelencoder.fit_transform(xtest['Time slot'])\n",
    "xtest['Gender'] = labelencoder.fit_transform(xtest['Gender'])\n",
    "xtest['Specimen Storage'] = labelencoder.fit_transform(xtest['Specimen Storage'])\n",
    "\n",
    "# grid search logistic regression model\n",
    "from pandas import read_csv\n",
    "from sklearn.linear_model import LogisticRegression\n",
    "from sklearn.model_selection import RepeatedStratifiedKFold\n",
    "from sklearn.model_selection import GridSearchCV\n",
    "\n",
    "\n",
    "xtest.info()"
   ]
  },
  {
   "cell_type": "code",
   "execution_count": 22,
   "id": "aa57e2f4",
   "metadata": {},
   "outputs": [
    {
     "name": "stderr",
     "output_type": "stream",
     "text": [
      "/Users/jwalavaishnavikarri/opt/anaconda3/lib/python3.9/site-packages/sklearn/linear_model/_logistic.py:1483: UserWarning: Setting penalty='none' will ignore the C and l1_ratio parameters\n",
      "  warnings.warn(\n",
      "/Users/jwalavaishnavikarri/opt/anaconda3/lib/python3.9/site-packages/sklearn/utils/validation.py:993: DataConversionWarning: A column-vector y was passed when a 1d array was expected. Please change the shape of y to (n_samples, ), for example using ravel().\n",
      "  y = column_or_1d(y, warn=True)\n",
      "/Users/jwalavaishnavikarri/opt/anaconda3/lib/python3.9/site-packages/sklearn/linear_model/_logistic.py:1483: UserWarning: Setting penalty='none' will ignore the C and l1_ratio parameters\n",
      "  warnings.warn(\n",
      "/Users/jwalavaishnavikarri/opt/anaconda3/lib/python3.9/site-packages/sklearn/linear_model/_logistic.py:1483: UserWarning: Setting penalty='none' will ignore the C and l1_ratio parameters\n",
      "  warnings.warn(\n",
      "/Users/jwalavaishnavikarri/opt/anaconda3/lib/python3.9/site-packages/sklearn/utils/validation.py:993: DataConversionWarning: A column-vector y was passed when a 1d array was expected. Please change the shape of y to (n_samples, ), for example using ravel().\n",
      "  y = column_or_1d(y, warn=True)\n",
      "/Users/jwalavaishnavikarri/opt/anaconda3/lib/python3.9/site-packages/sklearn/utils/validation.py:993: DataConversionWarning: A column-vector y was passed when a 1d array was expected. Please change the shape of y to (n_samples, ), for example using ravel().\n",
      "  y = column_or_1d(y, warn=True)\n",
      "/Users/jwalavaishnavikarri/opt/anaconda3/lib/python3.9/site-packages/sklearn/linear_model/_logistic.py:1483: UserWarning: Setting penalty='none' will ignore the C and l1_ratio parameters\n",
      "  warnings.warn(\n",
      "/Users/jwalavaishnavikarri/opt/anaconda3/lib/python3.9/site-packages/sklearn/utils/validation.py:993: DataConversionWarning: A column-vector y was passed when a 1d array was expected. Please change the shape of y to (n_samples, ), for example using ravel().\n",
      "  y = column_or_1d(y, warn=True)\n",
      "/Users/jwalavaishnavikarri/opt/anaconda3/lib/python3.9/site-packages/sklearn/linear_model/_logistic.py:1483: UserWarning: Setting penalty='none' will ignore the C and l1_ratio parameters\n",
      "  warnings.warn(\n",
      "/Users/jwalavaishnavikarri/opt/anaconda3/lib/python3.9/site-packages/sklearn/utils/validation.py:993: DataConversionWarning: A column-vector y was passed when a 1d array was expected. Please change the shape of y to (n_samples, ), for example using ravel().\n",
      "  y = column_or_1d(y, warn=True)\n",
      "/Users/jwalavaishnavikarri/opt/anaconda3/lib/python3.9/site-packages/sklearn/linear_model/_logistic.py:1483: UserWarning: Setting penalty='none' will ignore the C and l1_ratio parameters\n",
      "  warnings.warn(\n",
      "/Users/jwalavaishnavikarri/opt/anaconda3/lib/python3.9/site-packages/sklearn/utils/validation.py:993: DataConversionWarning: A column-vector y was passed when a 1d array was expected. Please change the shape of y to (n_samples, ), for example using ravel().\n",
      "  y = column_or_1d(y, warn=True)\n",
      "/Users/jwalavaishnavikarri/opt/anaconda3/lib/python3.9/site-packages/sklearn/linear_model/_logistic.py:1483: UserWarning: Setting penalty='none' will ignore the C and l1_ratio parameters\n",
      "  warnings.warn(\n",
      "/Users/jwalavaishnavikarri/opt/anaconda3/lib/python3.9/site-packages/sklearn/linear_model/_logistic.py:1483: UserWarning: Setting penalty='none' will ignore the C and l1_ratio parameters\n",
      "  warnings.warn(\n",
      "/Users/jwalavaishnavikarri/opt/anaconda3/lib/python3.9/site-packages/sklearn/utils/validation.py:993: DataConversionWarning: A column-vector y was passed when a 1d array was expected. Please change the shape of y to (n_samples, ), for example using ravel().\n",
      "  y = column_or_1d(y, warn=True)\n",
      "/Users/jwalavaishnavikarri/opt/anaconda3/lib/python3.9/site-packages/sklearn/utils/validation.py:993: DataConversionWarning: A column-vector y was passed when a 1d array was expected. Please change the shape of y to (n_samples, ), for example using ravel().\n",
      "  y = column_or_1d(y, warn=True)\n",
      "/Users/jwalavaishnavikarri/opt/anaconda3/lib/python3.9/site-packages/sklearn/linear_model/_logistic.py:1483: UserWarning: Setting penalty='none' will ignore the C and l1_ratio parameters\n",
      "  warnings.warn(\n",
      "/Users/jwalavaishnavikarri/opt/anaconda3/lib/python3.9/site-packages/sklearn/utils/validation.py:993: DataConversionWarning: A column-vector y was passed when a 1d array was expected. Please change the shape of y to (n_samples, ), for example using ravel().\n",
      "  y = column_or_1d(y, warn=True)\n",
      "/Users/jwalavaishnavikarri/opt/anaconda3/lib/python3.9/site-packages/sklearn/linear_model/_logistic.py:1483: UserWarning: Setting penalty='none' will ignore the C and l1_ratio parameters\n",
      "  warnings.warn(\n",
      "/Users/jwalavaishnavikarri/opt/anaconda3/lib/python3.9/site-packages/sklearn/utils/validation.py:993: DataConversionWarning: A column-vector y was passed when a 1d array was expected. Please change the shape of y to (n_samples, ), for example using ravel().\n",
      "  y = column_or_1d(y, warn=True)\n",
      "/Users/jwalavaishnavikarri/opt/anaconda3/lib/python3.9/site-packages/sklearn/linear_model/_logistic.py:1483: UserWarning: Setting penalty='none' will ignore the C and l1_ratio parameters\n",
      "  warnings.warn(\n",
      "/Users/jwalavaishnavikarri/opt/anaconda3/lib/python3.9/site-packages/sklearn/utils/validation.py:993: DataConversionWarning: A column-vector y was passed when a 1d array was expected. Please change the shape of y to (n_samples, ), for example using ravel().\n",
      "  y = column_or_1d(y, warn=True)\n",
      "/Users/jwalavaishnavikarri/opt/anaconda3/lib/python3.9/site-packages/sklearn/linear_model/_logistic.py:1483: UserWarning: Setting penalty='none' will ignore the C and l1_ratio parameters\n",
      "  warnings.warn(\n",
      "/Users/jwalavaishnavikarri/opt/anaconda3/lib/python3.9/site-packages/sklearn/utils/validation.py:993: DataConversionWarning: A column-vector y was passed when a 1d array was expected. Please change the shape of y to (n_samples, ), for example using ravel().\n",
      "  y = column_or_1d(y, warn=True)\n",
      "/Users/jwalavaishnavikarri/opt/anaconda3/lib/python3.9/site-packages/sklearn/linear_model/_logistic.py:1483: UserWarning: Setting penalty='none' will ignore the C and l1_ratio parameters\n",
      "  warnings.warn(\n",
      "/Users/jwalavaishnavikarri/opt/anaconda3/lib/python3.9/site-packages/sklearn/utils/validation.py:993: DataConversionWarning: A column-vector y was passed when a 1d array was expected. Please change the shape of y to (n_samples, ), for example using ravel().\n",
      "  y = column_or_1d(y, warn=True)\n",
      "/Users/jwalavaishnavikarri/opt/anaconda3/lib/python3.9/site-packages/sklearn/linear_model/_logistic.py:1483: UserWarning: Setting penalty='none' will ignore the C and l1_ratio parameters\n",
      "  warnings.warn(\n",
      "/Users/jwalavaishnavikarri/opt/anaconda3/lib/python3.9/site-packages/sklearn/utils/validation.py:993: DataConversionWarning: A column-vector y was passed when a 1d array was expected. Please change the shape of y to (n_samples, ), for example using ravel().\n",
      "  y = column_or_1d(y, warn=True)\n",
      "/Users/jwalavaishnavikarri/opt/anaconda3/lib/python3.9/site-packages/sklearn/linear_model/_logistic.py:1483: UserWarning: Setting penalty='none' will ignore the C and l1_ratio parameters\n",
      "  warnings.warn(\n",
      "/Users/jwalavaishnavikarri/opt/anaconda3/lib/python3.9/site-packages/sklearn/utils/validation.py:993: DataConversionWarning: A column-vector y was passed when a 1d array was expected. Please change the shape of y to (n_samples, ), for example using ravel().\n",
      "  y = column_or_1d(y, warn=True)\n",
      "/Users/jwalavaishnavikarri/opt/anaconda3/lib/python3.9/site-packages/sklearn/linear_model/_logistic.py:1483: UserWarning: Setting penalty='none' will ignore the C and l1_ratio parameters\n",
      "  warnings.warn(\n",
      "/Users/jwalavaishnavikarri/opt/anaconda3/lib/python3.9/site-packages/sklearn/utils/validation.py:993: DataConversionWarning: A column-vector y was passed when a 1d array was expected. Please change the shape of y to (n_samples, ), for example using ravel().\n",
      "  y = column_or_1d(y, warn=True)\n",
      "/Users/jwalavaishnavikarri/opt/anaconda3/lib/python3.9/site-packages/sklearn/linear_model/_logistic.py:1483: UserWarning: Setting penalty='none' will ignore the C and l1_ratio parameters\n",
      "  warnings.warn(\n",
      "/Users/jwalavaishnavikarri/opt/anaconda3/lib/python3.9/site-packages/sklearn/utils/validation.py:993: DataConversionWarning: A column-vector y was passed when a 1d array was expected. Please change the shape of y to (n_samples, ), for example using ravel().\n",
      "  y = column_or_1d(y, warn=True)\n",
      "/Users/jwalavaishnavikarri/opt/anaconda3/lib/python3.9/site-packages/sklearn/linear_model/_logistic.py:1483: UserWarning: Setting penalty='none' will ignore the C and l1_ratio parameters\n",
      "  warnings.warn(\n",
      "/Users/jwalavaishnavikarri/opt/anaconda3/lib/python3.9/site-packages/sklearn/linear_model/_logistic.py:1483: UserWarning: Setting penalty='none' will ignore the C and l1_ratio parameters\n",
      "  warnings.warn(\n",
      "/Users/jwalavaishnavikarri/opt/anaconda3/lib/python3.9/site-packages/sklearn/utils/validation.py:993: DataConversionWarning: A column-vector y was passed when a 1d array was expected. Please change the shape of y to (n_samples, ), for example using ravel().\n",
      "  y = column_or_1d(y, warn=True)\n",
      "/Users/jwalavaishnavikarri/opt/anaconda3/lib/python3.9/site-packages/sklearn/utils/validation.py:993: DataConversionWarning: A column-vector y was passed when a 1d array was expected. Please change the shape of y to (n_samples, ), for example using ravel().\n",
      "  y = column_or_1d(y, warn=True)\n",
      "/Users/jwalavaishnavikarri/opt/anaconda3/lib/python3.9/site-packages/sklearn/linear_model/_logistic.py:1483: UserWarning: Setting penalty='none' will ignore the C and l1_ratio parameters\n",
      "  warnings.warn(\n",
      "/Users/jwalavaishnavikarri/opt/anaconda3/lib/python3.9/site-packages/sklearn/utils/validation.py:993: DataConversionWarning: A column-vector y was passed when a 1d array was expected. Please change the shape of y to (n_samples, ), for example using ravel().\n",
      "  y = column_or_1d(y, warn=True)\n",
      "/Users/jwalavaishnavikarri/opt/anaconda3/lib/python3.9/site-packages/sklearn/linear_model/_logistic.py:1483: UserWarning: Setting penalty='none' will ignore the C and l1_ratio parameters\n",
      "  warnings.warn(\n",
      "/Users/jwalavaishnavikarri/opt/anaconda3/lib/python3.9/site-packages/sklearn/utils/validation.py:993: DataConversionWarning: A column-vector y was passed when a 1d array was expected. Please change the shape of y to (n_samples, ), for example using ravel().\n",
      "  y = column_or_1d(y, warn=True)\n",
      "/Users/jwalavaishnavikarri/opt/anaconda3/lib/python3.9/site-packages/sklearn/linear_model/_logistic.py:1483: UserWarning: Setting penalty='none' will ignore the C and l1_ratio parameters\n",
      "  warnings.warn(\n",
      "/Users/jwalavaishnavikarri/opt/anaconda3/lib/python3.9/site-packages/sklearn/utils/validation.py:993: DataConversionWarning: A column-vector y was passed when a 1d array was expected. Please change the shape of y to (n_samples, ), for example using ravel().\n",
      "  y = column_or_1d(y, warn=True)\n",
      "/Users/jwalavaishnavikarri/opt/anaconda3/lib/python3.9/site-packages/sklearn/linear_model/_logistic.py:1483: UserWarning: Setting penalty='none' will ignore the C and l1_ratio parameters\n",
      "  warnings.warn(\n",
      "/Users/jwalavaishnavikarri/opt/anaconda3/lib/python3.9/site-packages/sklearn/utils/validation.py:993: DataConversionWarning: A column-vector y was passed when a 1d array was expected. Please change the shape of y to (n_samples, ), for example using ravel().\n",
      "  y = column_or_1d(y, warn=True)\n",
      "/Users/jwalavaishnavikarri/opt/anaconda3/lib/python3.9/site-packages/sklearn/linear_model/_logistic.py:1483: UserWarning: Setting penalty='none' will ignore the C and l1_ratio parameters\n",
      "  warnings.warn(\n",
      "/Users/jwalavaishnavikarri/opt/anaconda3/lib/python3.9/site-packages/sklearn/utils/validation.py:993: DataConversionWarning: A column-vector y was passed when a 1d array was expected. Please change the shape of y to (n_samples, ), for example using ravel().\n",
      "  y = column_or_1d(y, warn=True)\n"
     ]
    },
    {
     "name": "stderr",
     "output_type": "stream",
     "text": [
      "/Users/jwalavaishnavikarri/opt/anaconda3/lib/python3.9/site-packages/sklearn/linear_model/_logistic.py:1483: UserWarning: Setting penalty='none' will ignore the C and l1_ratio parameters\n",
      "  warnings.warn(\n",
      "/Users/jwalavaishnavikarri/opt/anaconda3/lib/python3.9/site-packages/sklearn/utils/validation.py:993: DataConversionWarning: A column-vector y was passed when a 1d array was expected. Please change the shape of y to (n_samples, ), for example using ravel().\n",
      "  y = column_or_1d(y, warn=True)\n",
      "/Users/jwalavaishnavikarri/opt/anaconda3/lib/python3.9/site-packages/sklearn/linear_model/_logistic.py:1483: UserWarning: Setting penalty='none' will ignore the C and l1_ratio parameters\n",
      "  warnings.warn(\n",
      "/Users/jwalavaishnavikarri/opt/anaconda3/lib/python3.9/site-packages/sklearn/utils/validation.py:993: DataConversionWarning: A column-vector y was passed when a 1d array was expected. Please change the shape of y to (n_samples, ), for example using ravel().\n",
      "  y = column_or_1d(y, warn=True)\n",
      "/Users/jwalavaishnavikarri/opt/anaconda3/lib/python3.9/site-packages/sklearn/linear_model/_logistic.py:1483: UserWarning: Setting penalty='none' will ignore the C and l1_ratio parameters\n",
      "  warnings.warn(\n",
      "/Users/jwalavaishnavikarri/opt/anaconda3/lib/python3.9/site-packages/sklearn/linear_model/_logistic.py:1483: UserWarning: Setting penalty='none' will ignore the C and l1_ratio parameters\n",
      "  warnings.warn(\n",
      "/Users/jwalavaishnavikarri/opt/anaconda3/lib/python3.9/site-packages/sklearn/utils/validation.py:993: DataConversionWarning: A column-vector y was passed when a 1d array was expected. Please change the shape of y to (n_samples, ), for example using ravel().\n",
      "  y = column_or_1d(y, warn=True)\n",
      "/Users/jwalavaishnavikarri/opt/anaconda3/lib/python3.9/site-packages/sklearn/utils/validation.py:993: DataConversionWarning: A column-vector y was passed when a 1d array was expected. Please change the shape of y to (n_samples, ), for example using ravel().\n",
      "  y = column_or_1d(y, warn=True)\n",
      "/Users/jwalavaishnavikarri/opt/anaconda3/lib/python3.9/site-packages/sklearn/linear_model/_logistic.py:1483: UserWarning: Setting penalty='none' will ignore the C and l1_ratio parameters\n",
      "  warnings.warn(\n",
      "/Users/jwalavaishnavikarri/opt/anaconda3/lib/python3.9/site-packages/sklearn/utils/validation.py:993: DataConversionWarning: A column-vector y was passed when a 1d array was expected. Please change the shape of y to (n_samples, ), for example using ravel().\n",
      "  y = column_or_1d(y, warn=True)\n",
      "/Users/jwalavaishnavikarri/opt/anaconda3/lib/python3.9/site-packages/sklearn/linear_model/_logistic.py:1483: UserWarning: Setting penalty='none' will ignore the C and l1_ratio parameters\n",
      "  warnings.warn(\n",
      "/Users/jwalavaishnavikarri/opt/anaconda3/lib/python3.9/site-packages/sklearn/utils/validation.py:993: DataConversionWarning: A column-vector y was passed when a 1d array was expected. Please change the shape of y to (n_samples, ), for example using ravel().\n",
      "  y = column_or_1d(y, warn=True)\n"
     ]
    },
    {
     "name": "stdout",
     "output_type": "stream",
     "text": [
      "BEST score: 0.8804\n",
      "Best Hyperparameters: {'C': 1e-05, 'penalty': 'none', 'solver': 'newton-cg'}\n"
     ]
    }
   ],
   "source": [
    "cv = RepeatedStratifiedKFold(n_splits=10, n_repeats=3, random_state=1)\n",
    "space = dict()\n",
    "space['solver'] = ['newton-cg', 'lbfgs', 'liblinear']\n",
    "space['penalty'] = ['none', 'l1', 'l2', 'elasticnet']\n",
    "space['C'] = [1e-5, 1e-4, 1e-3, 1e-2, 1e-1, 1, 10, 100]\n",
    "# space['solver'] = ['newton-cg']\n",
    "# space['penalty'] = ['none']\n",
    "# space['C'] = [1e-5]\n",
    "\n",
    "search = GridSearchCV(model, space, scoring='accuracy', n_jobs=-1, cv=cv)\n",
    "\n",
    "result = search.fit(xtrain, ytrain)\n",
    "print('BEST score: {:.4f}'.format(result.best_score_))\n",
    "print('Best Hyperparameters: %s' % result.best_params_)"
   ]
  },
  {
   "cell_type": "code",
   "execution_count": 23,
   "id": "4ba54689",
   "metadata": {},
   "outputs": [
    {
     "name": "stdout",
     "output_type": "stream",
     "text": [
      "Train Accruacy score: 0.9106\n",
      "Test Accruacy score: 0.8792\n",
      "Test Classification Report: \n",
      "               precision    recall  f1-score   support\n",
      "\n",
      "          24       0.99      1.00      1.00       108\n",
      "          34       0.75      0.90      0.82        73\n",
      "          39       0.93      0.82      0.87       124\n",
      "          49       0.75      0.96      0.84        50\n",
      "          54       1.00      0.17      0.29        18\n",
      "          64       1.00      0.94      0.97        16\n",
      "\n",
      "    accuracy                           0.88       389\n",
      "   macro avg       0.90      0.80      0.80       389\n",
      "weighted avg       0.90      0.88      0.87       389\n",
      "\n"
     ]
    }
   ],
   "source": [
    "\n",
    "\n",
    "\n",
    "\n",
    "model = LogisticRegression(multi_class='ovr',\n",
    "                           penalty = 'none',\n",
    "                           solver='newton-cg',\n",
    "                           C = 1e-05,\n",
    "                           fit_intercept=True,\n",
    "                           class_weight='balanced',\n",
    "                           random_state=50\n",
    "                          )\n",
    "\n",
    "result = model.fit(xtrain, ytrain)\n",
    "\n",
    "ypred = result.predict(xtest)\n",
    "ypredtrain = result.predict(xtrain)\n",
    "\n",
    "print('Train Accruacy score: {:.4f}'.format(accuracy_score(ytrain, ypredtrain))) \n",
    "print('Test Accruacy score: {:.4f}'.format(accuracy_score(ytest, ypred))) \n",
    "print('Test Classification Report: \\n', classification_report(ytest, ypred))\n"
   ]
  },
  {
   "cell_type": "code",
   "execution_count": null,
   "id": "403a4629",
   "metadata": {},
   "outputs": [],
   "source": []
  },
  {
   "cell_type": "code",
   "execution_count": null,
   "id": "ab191f18",
   "metadata": {},
   "outputs": [],
   "source": []
  },
  {
   "cell_type": "code",
   "execution_count": null,
   "id": "07bb2f56",
   "metadata": {},
   "outputs": [],
   "source": [
    "\n"
   ]
  },
  {
   "cell_type": "code",
   "execution_count": null,
   "id": "39006c4c",
   "metadata": {},
   "outputs": [],
   "source": []
  },
  {
   "cell_type": "code",
   "execution_count": null,
   "id": "0300a2d5",
   "metadata": {},
   "outputs": [],
   "source": []
  }
 ],
 "metadata": {
  "kernelspec": {
   "display_name": "Python 3 (ipykernel)",
   "language": "python",
   "name": "python3"
  },
  "language_info": {
   "codemirror_mode": {
    "name": "ipython",
    "version": 3
   },
   "file_extension": ".py",
   "mimetype": "text/x-python",
   "name": "python",
   "nbconvert_exporter": "python",
   "pygments_lexer": "ipython3",
   "version": "3.9.12"
  }
 },
 "nbformat": 4,
 "nbformat_minor": 5
}
